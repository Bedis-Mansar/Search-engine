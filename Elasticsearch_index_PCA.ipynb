{
 "cells": [
  {
   "cell_type": "code",
   "execution_count": 8,
   "id": "ac0f6b5b",
   "metadata": {},
   "outputs": [],
   "source": [
    "from sklearn.decomposition import PCA\n",
    "import pickle\n",
    "import matplotlib.pyplot as plt\n",
    "import numpy as np\n",
    "from sklearn.neighbors import NearestNeighbors\n",
    "import pandas as pd\n",
    "import requests\n",
    "import PIL.Image\n",
    "from io import BytesIO\n",
    "from keras.preprocessing import image\n",
    "from keras.preprocessing.image import load_img\n",
    "from keras.applications.vgg16 import preprocess_input\n",
    "from keras.models import Model\n",
    "from keras.applications import vgg16\n",
    "import tensorflow as tf\n",
    "from elasticsearch import Elasticsearch\n",
    "import json\n",
    "from IPython.display import Image, display, Markdown, Code, HTML"
   ]
  },
  {
   "cell_type": "code",
   "execution_count": 3,
   "id": "96002cbb",
   "metadata": {},
   "outputs": [],
   "source": [
    "try:\n",
    "    # Disable all GPUS\n",
    "    tf.config.set_visible_devices([], 'GPU')\n",
    "    visible_devices = tf.config.get_visible_devices()\n",
    "    for device in visible_devices:\n",
    "        assert device.device_type != 'GPU'\n",
    "except:\n",
    "    # Invalid device or cannot modify virtual devices once initialized.\n",
    "    pass"
   ]
  },
  {
   "cell_type": "code",
   "execution_count": 9,
   "id": "4a31c9a9",
   "metadata": {},
   "outputs": [],
   "source": [
    "es = Elasticsearch('127.0.0.1', port=9200)"
   ]
  },
  {
   "cell_type": "code",
   "execution_count": 10,
   "id": "efdc3927",
   "metadata": {},
   "outputs": [],
   "source": [
    "index = 'indexproject'\n",
    "source_no_vecs = ['imageId','tags', 'imgUrl']"
   ]
  },
  {
   "cell_type": "code",
   "execution_count": 6,
   "id": "193c06e6",
   "metadata": {},
   "outputs": [
    {
     "data": {
      "text/plain": [
       "{'indexproject': {'mappings': {'dynamic': 'false',\n",
       "   'properties': {'featurevector': {'type': 'elastiknn_dense_float_vector',\n",
       "     'elastiknn': {'model': 'lsh',\n",
       "      'similarity': 'l2',\n",
       "      'dims': 795,\n",
       "      'L': 60,\n",
       "      'k': 3,\n",
       "      'w': 2}},\n",
       "    'imageId': {'type': 'keyword'},\n",
       "    'imgUrl': {'type': 'text', 'index': False},\n",
       "    'tags': {'type': 'text'}}}}}"
      ]
     },
     "execution_count": 6,
     "metadata": {},
     "output_type": "execute_result"
    }
   ],
   "source": [
    "settings = {\n",
    "  \"settings\": {\n",
    "    \"elastiknn\": True,\n",
    "    \"number_of_shards\": 1,\n",
    "    \"number_of_replicas\": 0\n",
    "  }\n",
    "}\n",
    "\n",
    "mapping = {\n",
    "  \"dynamic\": False,\n",
    "  \"properties\": {\n",
    "      \"imageId\": { \"type\": \"keyword\" },\n",
    "      \"featurevector\": {\n",
    "          \"type\": \"elastiknn_dense_float_vector\",\n",
    "          \"elastiknn\": {\n",
    "            \"dims\": 795,\n",
    "            \"model\": \"lsh\",\n",
    "            \"similarity\": \"l2\",\n",
    "            \"L\": 60,\n",
    "            \"k\": 3,\n",
    "            \"w\": 2\n",
    "          }\n",
    "    },\n",
    "    \"tags\": { \"type\": \"text\" },\n",
    "    \"imgUrl\":{\"type\":\"text\",\"index\":False}\n",
    "  }\n",
    "}\n",
    "\n",
    "\n",
    "if not es.indices.exists(index):\n",
    "    es.indices.create(index, json.dumps(settings))\n",
    "    es.indices.put_mapping(json.dumps(mapping), index)\n",
    "es.indices.get_mapping(index)"
   ]
  },
  {
   "cell_type": "code",
   "execution_count": 11,
   "id": "dd14b434",
   "metadata": {},
   "outputs": [],
   "source": [
    "\n",
    "with open('C:/Users/bedis/Desktop/pkl2/L.pkl', 'rb') as f:\n",
    "   L = pickle.load(f)\n",
    "with open('C:/Users/bedis/Desktop/pkl2/Lindice.pkl', 'rb') as f:\n",
    "   Lindice= pickle.load(f)\n",
    "with open('C:/Users/bedis/Desktop/pkl1/PCA795.pkl', 'rb') as f:\n",
    "   PCA = pickle.load(f)"
   ]
  },
  {
   "cell_type": "code",
   "execution_count": 12,
   "id": "de80a598",
   "metadata": {},
   "outputs": [],
   "source": [
    "df=pd.read_csv('C:/Users/bedis/Desktop/flickr/cbir/photo_metadata/resultat2.csv',dtype={'id': str})"
   ]
  },
  {
   "cell_type": "code",
   "execution_count": 11,
   "id": "4c651910",
   "metadata": {},
   "outputs": [],
   "source": [
    "def image_actions():\n",
    "    \n",
    "    for i in Lindice:\n",
    "        \n",
    "        link=\"https://live.staticflickr.com/{x}/{y}_{z}.jpg\".format(x=df.iloc[i]['flickr_server'],y=df.iloc[i]['id'],z=df.iloc[i]['flickr_secret'])\n",
    "        yield {\n",
    "              \"_op_type\": \"index\", \"_index\": index, \"_id\": df.iloc[i][\"id\"],\n",
    "               \"tags\":df.iloc[i]['tags'],\n",
    "\n",
    "              \"imgUrl\": link\n",
    "            }\n",
    "        "
   ]
  },
  {
   "cell_type": "code",
   "execution_count": 12,
   "id": "4a8cfd42",
   "metadata": {},
   "outputs": [
    {
     "name": "stderr",
     "output_type": "stream",
     "text": [
      "c:\\users\\bedis\\appdata\\local\\programs\\python\\python36\\lib\\site-packages\\elasticsearch\\connection\\base.py:208: ElasticsearchWarning: Elasticsearch built-in security features are not enabled. Without authentication, your cluster could be accessible to anyone. See https://www.elastic.co/guide/en/elasticsearch/reference/7.14/security-minimal-setup.html to enable security.\n",
      "  warnings.warn(message, category=ElasticsearchWarning)\n"
     ]
    },
    {
     "data": {
      "text/plain": [
       "(100001, [])"
      ]
     },
     "execution_count": 12,
     "metadata": {},
     "output_type": "execute_result"
    }
   ],
   "source": [
    "from elasticsearch.helpers import bulk\n",
    "bulk(es, image_actions(), chunk_size=2000, max_retries=2)"
   ]
  },
  {
   "cell_type": "code",
   "execution_count": null,
   "id": "24d3b145",
   "metadata": {},
   "outputs": [],
   "source": [
    "es.indices.refresh(index=index)\n",
    "es.indices.forcemerge(index=index, max_num_segments=1, request_timeout=300)"
   ]
  },
  {
   "cell_type": "code",
   "execution_count": 12,
   "id": "88bf3882",
   "metadata": {},
   "outputs": [],
   "source": [
    "model = vgg16.VGG16(weights='imagenet', include_top=True)"
   ]
  },
  {
   "cell_type": "code",
   "execution_count": 15,
   "id": "2eb8eae8",
   "metadata": {},
   "outputs": [],
   "source": [
    "L=PCA.transform(L)\n",
    "def feature_extractor(img):\n",
    "    x = np.expand_dims(img, axis=0)\n",
    "    x = preprocess_input(x)\n",
    "    \n",
    "    model_extractfeatures = Model(inputs=model.input, outputs=model.get_layer('fc1').output)\n",
    "    fc2_features = model_extractfeatures.predict(x)[0]\n",
    "    \n",
    "    \n",
    "    return fc2_features/np.linalg.norm(fc2_features)"
   ]
  },
  {
   "cell_type": "code",
   "execution_count": 16,
   "id": "adf318f4",
   "metadata": {},
   "outputs": [],
   "source": [
    "from elasticsearch.helpers import bulk\n",
    "def vector_action():\n",
    "    \n",
    "    for i in range(len(Lindice)):\n",
    "        \n",
    "        try:\n",
    "            \n",
    "            \n",
    "\n",
    "            p=L[i]\n",
    "            yield { \"_op_type\": \"update\", \"_index\": index, \"_id\": df.iloc[Lindice[i]][\"id\"], \n",
    "                \"doc\": { \n",
    "                  \"featurevector\": { \"values\": p.tolist()}\n",
    "                }}\n",
    "        except:\n",
    "            pass\n",
    "        \n",
    "        "
   ]
  },
  {
   "cell_type": "code",
   "execution_count": 17,
   "id": "70623064",
   "metadata": {},
   "outputs": [
    {
     "name": "stderr",
     "output_type": "stream",
     "text": [
      "c:\\users\\bedis\\appdata\\local\\programs\\python\\python36\\lib\\site-packages\\elasticsearch\\connection\\base.py:208: ElasticsearchWarning: Elasticsearch built-in security features are not enabled. Without authentication, your cluster could be accessible to anyone. See https://www.elastic.co/guide/en/elasticsearch/reference/7.14/security-minimal-setup.html to enable security.\n",
      "  warnings.warn(message, category=ElasticsearchWarning)\n",
      "Exception ignored in: <generator object vector_action at 0x0000022A971ED620>\n",
      "RuntimeError: generator ignored GeneratorExit\n"
     ]
    },
    {
     "data": {
      "text/plain": [
       "(100001, [])"
      ]
     },
     "execution_count": 17,
     "metadata": {},
     "output_type": "execute_result"
    }
   ],
   "source": [
    "bulk(es, vector_action(), chunk_size=1000, max_retries=2)"
   ]
  },
  {
   "cell_type": "code",
   "execution_count": null,
   "id": "c3912af9",
   "metadata": {},
   "outputs": [],
   "source": [
    "es.indices.refresh(index=index)\n",
    "es.indices.forcemerge(index=index, max_num_segments=1, request_timeout=1200)"
   ]
  }
 ],
 "metadata": {
  "kernelspec": {
   "display_name": "Python 3",
   "language": "python",
   "name": "python3"
  },
  "language_info": {
   "codemirror_mode": {
    "name": "ipython",
    "version": 3
   },
   "file_extension": ".py",
   "mimetype": "text/x-python",
   "name": "python",
   "nbconvert_exporter": "python",
   "pygments_lexer": "ipython3",
   "version": "3.6.8rc1"
  }
 },
 "nbformat": 4,
 "nbformat_minor": 5
}
